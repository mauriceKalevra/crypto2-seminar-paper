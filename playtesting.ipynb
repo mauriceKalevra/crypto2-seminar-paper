{
 "cells": [
  {
   "cell_type": "code",
   "execution_count": 6,
   "metadata": {},
   "outputs": [],
   "source": [
    "from cryptography.fernet import Fernet"
   ]
  },
  {
   "cell_type": "code",
   "execution_count": 10,
   "metadata": {},
   "outputs": [],
   "source": [
    "key = Fernet.generate_key()"
   ]
  },
  {
   "cell_type": "code",
   "execution_count": 8,
   "metadata": {},
   "outputs": [
    {
     "data": {
      "text/plain": [
       "b'WncE6UUveYJ6uudA7fmzYKQVXg0fQf1QXNcdDB9nSec='"
      ]
     },
     "execution_count": 8,
     "metadata": {},
     "output_type": "execute_result"
    }
   ],
   "source": [
    "key"
   ]
  },
  {
   "cell_type": "code",
   "execution_count": 11,
   "metadata": {},
   "outputs": [],
   "source": [
    "f = Fernet(key)"
   ]
  },
  {
   "cell_type": "code",
   "execution_count": 19,
   "metadata": {},
   "outputs": [
    {
     "data": {
      "text/plain": [
       "cryptography.fernet.Fernet"
      ]
     },
     "execution_count": 19,
     "metadata": {},
     "output_type": "execute_result"
    }
   ],
   "source": [
    "type(f)"
   ]
  },
  {
   "cell_type": "code",
   "execution_count": 16,
   "metadata": {},
   "outputs": [],
   "source": [
    "\n",
    "token = f.encrypt(b\"Hallo Welt\")"
   ]
  },
  {
   "cell_type": "code",
   "execution_count": 17,
   "metadata": {},
   "outputs": [
    {
     "data": {
      "text/plain": [
       "b'gAAAAABf65zHRD_VwDrsvujLb3kbpexh8FRLfr5fA4YuQp7qaFdYP_it2pA2-eRD2wL10O42dDPTeU7HmWvtsBg8a0b53cqUgw=='"
      ]
     },
     "execution_count": 17,
     "metadata": {},
     "output_type": "execute_result"
    }
   ],
   "source": [
    "token"
   ]
  },
  {
   "cell_type": "code",
   "execution_count": 18,
   "metadata": {},
   "outputs": [
    {
     "data": {
      "text/plain": [
       "b'Hallo Welt'"
      ]
     },
     "execution_count": 18,
     "metadata": {},
     "output_type": "execute_result"
    }
   ],
   "source": [
    "f.decrypt(token)"
   ]
  },
  {
   "cell_type": "code",
   "execution_count": 27,
   "metadata": {},
   "outputs": [
    {
     "name": "stdout",
     "output_type": "stream",
     "text": [
      "b'Hi'\n"
     ]
    },
    {
     "data": {
      "text/plain": [
       "NoneType"
      ]
     },
     "execution_count": 27,
     "metadata": {},
     "output_type": "execute_result"
    }
   ],
   "source": [
    "\n",
    "type(print(b\"Hi\"))"
   ]
  },
  {
   "cell_type": "code",
   "execution_count": 34,
   "metadata": {},
   "outputs": [
    {
     "data": {
      "text/plain": [
       "b'Hallo Albstadt'"
      ]
     },
     "execution_count": 34,
     "metadata": {},
     "output_type": "execute_result"
    }
   ],
   "source": [
    "schlüssel = Fernet.generate_key() \n",
    "#Der Schlüssel ist aus 2 kleineren Schlüsseln zusammen gesetzt. \n",
    "#Dem AES und HMAC Schlüssel.\n",
    "f = Fernet(schlüssel)\n",
    "#Die Datenübergabe muss in bytes erfolgen. Das 'b' im tuple stellt dies sicher.\n",
    "encrypt = f.encrypt(b\"Hallo Albstadt\")\n",
    "\n",
    "f.decrypt(encrypt)"
   ]
  },
  {
   "cell_type": "code",
   "execution_count": 29,
   "metadata": {},
   "outputs": [
    {
     "data": {
      "text/plain": [
       "b'gAAAAABf66-vRM8vAQ3_F7S0NFnVmdZMcqu88VcS53GpvdobJLdLb6LJl3vGJsgatKXgOn5EZyoms1s2vhyq0fuJb4taIniWBg=='"
      ]
     },
     "execution_count": 29,
     "metadata": {},
     "output_type": "execute_result"
    }
   ],
   "source": [
    "encrypt"
   ]
  },
  {
   "cell_type": "code",
   "execution_count": 35,
   "metadata": {},
   "outputs": [
    {
     "ename": "NameError",
     "evalue": "name 'haslib' is not defined",
     "output_type": "error",
     "traceback": [
      "\u001b[0;31m---------------------------------------------------------------------------\u001b[0m",
      "\u001b[0;31mNameError\u001b[0m                                 Traceback (most recent call last)",
      "\u001b[0;32m<ipython-input-35-824c3d3d1ab8>\u001b[0m in \u001b[0;36m<module>\u001b[0;34m\u001b[0m\n\u001b[0;32m----> 1\u001b[0;31m \u001b[0mhaslib\u001b[0m\u001b[0;34m\u001b[0m\u001b[0;34m\u001b[0m\u001b[0m\n\u001b[0m",
      "\u001b[0;31mNameError\u001b[0m: name 'haslib' is not defined"
     ]
    }
   ],
   "source": [
    "haslib\n"
   ]
  },
  {
   "cell_type": "code",
   "execution_count": 36,
   "metadata": {},
   "outputs": [],
   "source": [
    "import hashlib"
   ]
  },
  {
   "cell_type": "code",
   "execution_count": 37,
   "metadata": {},
   "outputs": [
    {
     "name": "stdout",
     "output_type": "stream",
     "text": [
      "Help on module hashlib:\n",
      "\n",
      "NAME\n",
      "    hashlib - hashlib module - A common interface to many hash functions.\n",
      "\n",
      "MODULE REFERENCE\n",
      "    https://docs.python.org/3.7/library/hashlib\n",
      "    \n",
      "    The following documentation is automatically generated from the Python\n",
      "    source files.  It may be incomplete, incorrect or include features that\n",
      "    are considered implementation detail and may vary between Python\n",
      "    implementations.  When in doubt, consult the module reference at the\n",
      "    location listed above.\n",
      "\n",
      "DESCRIPTION\n",
      "    new(name, data=b'', **kwargs) - returns a new hash object implementing the\n",
      "                                    given hash function; initializing the hash\n",
      "                                    using the given binary data.\n",
      "    \n",
      "    Named constructor functions are also available, these are faster\n",
      "    than using new(name):\n",
      "    \n",
      "    md5(), sha1(), sha224(), sha256(), sha384(), sha512(), blake2b(), blake2s(),\n",
      "    sha3_224, sha3_256, sha3_384, sha3_512, shake_128, and shake_256.\n",
      "    \n",
      "    More algorithms may be available on your platform but the above are guaranteed\n",
      "    to exist.  See the algorithms_guaranteed and algorithms_available attributes\n",
      "    to find out what algorithm names can be passed to new().\n",
      "    \n",
      "    NOTE: If you want the adler32 or crc32 hash functions they are available in\n",
      "    the zlib module.\n",
      "    \n",
      "    Choose your hash function wisely.  Some have known collision weaknesses.\n",
      "    sha384 and sha512 will be slow on 32 bit platforms.\n",
      "    \n",
      "    Hash objects have these methods:\n",
      "     - update(data): Update the hash object with the bytes in data. Repeated calls\n",
      "                     are equivalent to a single call with the concatenation of all\n",
      "                     the arguments.\n",
      "     - digest():     Return the digest of the bytes passed to the update() method\n",
      "                     so far as a bytes object.\n",
      "     - hexdigest():  Like digest() except the digest is returned as a string\n",
      "                     of double length, containing only hexadecimal digits.\n",
      "     - copy():       Return a copy (clone) of the hash object. This can be used to\n",
      "                     efficiently compute the digests of datas that share a common\n",
      "                     initial substring.\n",
      "    \n",
      "    For example, to obtain the digest of the byte string 'Nobody inspects the\n",
      "    spammish repetition':\n",
      "    \n",
      "        >>> import hashlib\n",
      "        >>> m = hashlib.md5()\n",
      "        >>> m.update(b\"Nobody inspects\")\n",
      "        >>> m.update(b\" the spammish repetition\")\n",
      "        >>> m.digest()\n",
      "        b'\\xbbd\\x9c\\x83\\xdd\\x1e\\xa5\\xc9\\xd9\\xde\\xc9\\xa1\\x8d\\xf0\\xff\\xe9'\n",
      "    \n",
      "    More condensed:\n",
      "    \n",
      "        >>> hashlib.sha224(b\"Nobody inspects the spammish repetition\").hexdigest()\n",
      "        'a4337bc45a8fc544c03f52dc550cd6e1e87021bc896588bd79e901e2'\n",
      "\n",
      "CLASSES\n",
      "    builtins.object\n",
      "        _blake2.blake2b\n",
      "        _blake2.blake2s\n",
      "        _sha3.sha3_224\n",
      "        _sha3.sha3_256\n",
      "        _sha3.sha3_384\n",
      "        _sha3.sha3_512\n",
      "        _sha3.shake_128\n",
      "        _sha3.shake_256\n",
      "    \n",
      "    class blake2b(builtins.object)\n",
      "     |  blake2b(data=b'', /, *, digest_size=64, key=b'', salt=b'', person=b'', fanout=1, depth=1, leaf_size=0, node_offset=0, node_depth=0, inner_size=0, last_node=False)\n",
      "     |  \n",
      "     |  Return a new BLAKE2b hash object.\n",
      "     |  \n",
      "     |  Methods defined here:\n",
      "     |  \n",
      "     |  copy(self, /)\n",
      "     |      Return a copy of the hash object.\n",
      "     |  \n",
      "     |  digest(self, /)\n",
      "     |      Return the digest value as a bytes object.\n",
      "     |  \n",
      "     |  hexdigest(self, /)\n",
      "     |      Return the digest value as a string of hexadecimal digits.\n",
      "     |  \n",
      "     |  update(self, data, /)\n",
      "     |      Update this hash object's state with the provided bytes-like object.\n",
      "     |  \n",
      "     |  ----------------------------------------------------------------------\n",
      "     |  Static methods defined here:\n",
      "     |  \n",
      "     |  __new__(*args, **kwargs) from builtins.type\n",
      "     |      Create and return a new object.  See help(type) for accurate signature.\n",
      "     |  \n",
      "     |  ----------------------------------------------------------------------\n",
      "     |  Data descriptors defined here:\n",
      "     |  \n",
      "     |  block_size\n",
      "     |  \n",
      "     |  digest_size\n",
      "     |  \n",
      "     |  name\n",
      "     |  \n",
      "     |  ----------------------------------------------------------------------\n",
      "     |  Data and other attributes defined here:\n",
      "     |  \n",
      "     |  MAX_DIGEST_SIZE = 64\n",
      "     |  \n",
      "     |  MAX_KEY_SIZE = 64\n",
      "     |  \n",
      "     |  PERSON_SIZE = 16\n",
      "     |  \n",
      "     |  SALT_SIZE = 16\n",
      "    \n",
      "    class blake2s(builtins.object)\n",
      "     |  blake2s(data=b'', /, *, digest_size=32, key=b'', salt=b'', person=b'', fanout=1, depth=1, leaf_size=0, node_offset=0, node_depth=0, inner_size=0, last_node=False)\n",
      "     |  \n",
      "     |  Return a new BLAKE2s hash object.\n",
      "     |  \n",
      "     |  Methods defined here:\n",
      "     |  \n",
      "     |  copy(self, /)\n",
      "     |      Return a copy of the hash object.\n",
      "     |  \n",
      "     |  digest(self, /)\n",
      "     |      Return the digest value as a bytes object.\n",
      "     |  \n",
      "     |  hexdigest(self, /)\n",
      "     |      Return the digest value as a string of hexadecimal digits.\n",
      "     |  \n",
      "     |  update(self, data, /)\n",
      "     |      Update this hash object's state with the provided bytes-like object.\n",
      "     |  \n",
      "     |  ----------------------------------------------------------------------\n",
      "     |  Static methods defined here:\n",
      "     |  \n",
      "     |  __new__(*args, **kwargs) from builtins.type\n",
      "     |      Create and return a new object.  See help(type) for accurate signature.\n",
      "     |  \n",
      "     |  ----------------------------------------------------------------------\n",
      "     |  Data descriptors defined here:\n",
      "     |  \n",
      "     |  block_size\n",
      "     |  \n",
      "     |  digest_size\n",
      "     |  \n",
      "     |  name\n",
      "     |  \n",
      "     |  ----------------------------------------------------------------------\n",
      "     |  Data and other attributes defined here:\n",
      "     |  \n",
      "     |  MAX_DIGEST_SIZE = 32\n",
      "     |  \n",
      "     |  MAX_KEY_SIZE = 32\n",
      "     |  \n",
      "     |  PERSON_SIZE = 8\n",
      "     |  \n",
      "     |  SALT_SIZE = 8\n",
      "    \n",
      "    class sha3_224(builtins.object)\n",
      "     |  sha3_224([data]) -> SHA3 object\n",
      "     |  \n",
      "     |  Return a new SHA3 hash object with a hashbit length of 28 bytes.\n",
      "     |  \n",
      "     |  Methods defined here:\n",
      "     |  \n",
      "     |  copy(self, /)\n",
      "     |      Return a copy of the hash object.\n",
      "     |  \n",
      "     |  digest(self, /)\n",
      "     |      Return the digest value as a bytes object.\n",
      "     |  \n",
      "     |  hexdigest(self, /)\n",
      "     |      Return the digest value as a string of hexadecimal digits.\n",
      "     |  \n",
      "     |  update(self, data, /)\n",
      "     |      Update this hash object's state with the provided bytes-like object.\n",
      "     |  \n",
      "     |  ----------------------------------------------------------------------\n",
      "     |  Static methods defined here:\n",
      "     |  \n",
      "     |  __new__(*args, **kwargs) from builtins.type\n",
      "     |      Create and return a new object.  See help(type) for accurate signature.\n",
      "     |  \n",
      "     |  ----------------------------------------------------------------------\n",
      "     |  Data descriptors defined here:\n",
      "     |  \n",
      "     |  block_size\n",
      "     |  \n",
      "     |  digest_size\n",
      "     |  \n",
      "     |  name\n",
      "    \n",
      "    class sha3_256(builtins.object)\n",
      "     |  sha3_256([data]) -> SHA3 object\n",
      "     |  \n",
      "     |  Return a new SHA3 hash object with a hashbit length of 32 bytes.\n",
      "     |  \n",
      "     |  Methods defined here:\n",
      "     |  \n",
      "     |  copy(self, /)\n",
      "     |      Return a copy of the hash object.\n",
      "     |  \n",
      "     |  digest(self, /)\n",
      "     |      Return the digest value as a bytes object.\n",
      "     |  \n",
      "     |  hexdigest(self, /)\n",
      "     |      Return the digest value as a string of hexadecimal digits.\n",
      "     |  \n",
      "     |  update(self, data, /)\n",
      "     |      Update this hash object's state with the provided bytes-like object.\n",
      "     |  \n",
      "     |  ----------------------------------------------------------------------\n",
      "     |  Static methods defined here:\n",
      "     |  \n",
      "     |  __new__(*args, **kwargs) from builtins.type\n",
      "     |      Create and return a new object.  See help(type) for accurate signature.\n",
      "     |  \n",
      "     |  ----------------------------------------------------------------------\n",
      "     |  Data descriptors defined here:\n",
      "     |  \n",
      "     |  block_size\n",
      "     |  \n",
      "     |  digest_size\n",
      "     |  \n",
      "     |  name\n",
      "    \n",
      "    class sha3_384(builtins.object)\n",
      "     |  sha3_384([data]) -> SHA3 object\n",
      "     |  \n",
      "     |  Return a new SHA3 hash object with a hashbit length of 48 bytes.\n",
      "     |  \n",
      "     |  Methods defined here:\n",
      "     |  \n",
      "     |  copy(self, /)\n",
      "     |      Return a copy of the hash object.\n",
      "     |  \n",
      "     |  digest(self, /)\n",
      "     |      Return the digest value as a bytes object.\n",
      "     |  \n",
      "     |  hexdigest(self, /)\n",
      "     |      Return the digest value as a string of hexadecimal digits.\n",
      "     |  \n",
      "     |  update(self, data, /)\n",
      "     |      Update this hash object's state with the provided bytes-like object.\n",
      "     |  \n",
      "     |  ----------------------------------------------------------------------\n",
      "     |  Static methods defined here:\n",
      "     |  \n",
      "     |  __new__(*args, **kwargs) from builtins.type\n",
      "     |      Create and return a new object.  See help(type) for accurate signature.\n",
      "     |  \n",
      "     |  ----------------------------------------------------------------------\n",
      "     |  Data descriptors defined here:\n",
      "     |  \n",
      "     |  block_size\n",
      "     |  \n",
      "     |  digest_size\n",
      "     |  \n",
      "     |  name\n",
      "    \n",
      "    class sha3_512(builtins.object)\n",
      "     |  sha3_512([data]) -> SHA3 object\n",
      "     |  \n",
      "     |  Return a new SHA3 hash object with a hashbit length of 64 bytes.\n",
      "     |  \n",
      "     |  Methods defined here:\n",
      "     |  \n",
      "     |  copy(self, /)\n",
      "     |      Return a copy of the hash object.\n",
      "     |  \n",
      "     |  digest(self, /)\n",
      "     |      Return the digest value as a bytes object.\n",
      "     |  \n",
      "     |  hexdigest(self, /)\n",
      "     |      Return the digest value as a string of hexadecimal digits.\n",
      "     |  \n",
      "     |  update(self, data, /)\n",
      "     |      Update this hash object's state with the provided bytes-like object.\n",
      "     |  \n",
      "     |  ----------------------------------------------------------------------\n",
      "     |  Static methods defined here:\n",
      "     |  \n",
      "     |  __new__(*args, **kwargs) from builtins.type\n",
      "     |      Create and return a new object.  See help(type) for accurate signature.\n",
      "     |  \n",
      "     |  ----------------------------------------------------------------------\n",
      "     |  Data descriptors defined here:\n",
      "     |  \n",
      "     |  block_size\n",
      "     |  \n",
      "     |  digest_size\n",
      "     |  \n",
      "     |  name\n",
      "    \n",
      "    class shake_128(builtins.object)\n",
      "     |  shake_128([data]) -> SHAKE object\n",
      "     |  \n",
      "     |  Return a new SHAKE hash object.\n",
      "     |  \n",
      "     |  Methods defined here:\n",
      "     |  \n",
      "     |  copy(self, /)\n",
      "     |      Return a copy of the hash object.\n",
      "     |  \n",
      "     |  digest(self, length, /)\n",
      "     |      Return the digest value as a bytes object.\n",
      "     |  \n",
      "     |  hexdigest(self, length, /)\n",
      "     |      Return the digest value as a string of hexadecimal digits.\n",
      "     |  \n",
      "     |  update(self, data, /)\n",
      "     |      Update this hash object's state with the provided bytes-like object.\n",
      "     |  \n",
      "     |  ----------------------------------------------------------------------\n",
      "     |  Static methods defined here:\n",
      "     |  \n",
      "     |  __new__(*args, **kwargs) from builtins.type\n",
      "     |      Create and return a new object.  See help(type) for accurate signature.\n",
      "     |  \n",
      "     |  ----------------------------------------------------------------------\n",
      "     |  Data descriptors defined here:\n",
      "     |  \n",
      "     |  block_size\n",
      "     |  \n",
      "     |  digest_size\n",
      "     |  \n",
      "     |  name\n",
      "    \n",
      "    class shake_256(builtins.object)\n",
      "     |  shake_256([data]) -> SHAKE object\n",
      "     |  \n",
      "     |  Return a new SHAKE hash object.\n",
      "     |  \n",
      "     |  Methods defined here:\n",
      "     |  \n",
      "     |  copy(self, /)\n",
      "     |      Return a copy of the hash object.\n",
      "     |  \n",
      "     |  digest(self, length, /)\n",
      "     |      Return the digest value as a bytes object.\n",
      "     |  \n",
      "     |  hexdigest(self, length, /)\n",
      "     |      Return the digest value as a string of hexadecimal digits.\n",
      "     |  \n",
      "     |  update(self, data, /)\n",
      "     |      Update this hash object's state with the provided bytes-like object.\n",
      "     |  \n",
      "     |  ----------------------------------------------------------------------\n",
      "     |  Static methods defined here:\n",
      "     |  \n",
      "     |  __new__(*args, **kwargs) from builtins.type\n",
      "     |      Create and return a new object.  See help(type) for accurate signature.\n",
      "     |  \n",
      "     |  ----------------------------------------------------------------------\n",
      "     |  Data descriptors defined here:\n",
      "     |  \n",
      "     |  block_size\n",
      "     |  \n",
      "     |  digest_size\n",
      "     |  \n",
      "     |  name\n",
      "\n",
      "FUNCTIONS\n",
      "    md5 = openssl_md5(...)\n",
      "        Returns a md5 hash object; optionally initialized with a string\n",
      "    \n",
      "    new = __hash_new(name, data=b'', **kwargs)\n",
      "        new(name, data=b'') - Return a new hashing object using the named algorithm;\n",
      "        optionally initialized with data (which must be a bytes-like object).\n",
      "    \n",
      "    pbkdf2_hmac(...)\n",
      "        pbkdf2_hmac(hash_name, password, salt, iterations, dklen=None) -> key\n",
      "        \n",
      "        Password based key derivation function 2 (PKCS #5 v2.0) with HMAC as\n",
      "        pseudorandom function.\n",
      "    \n",
      "    sha1 = openssl_sha1(...)\n",
      "        Returns a sha1 hash object; optionally initialized with a string\n",
      "    \n",
      "    sha224 = openssl_sha224(...)\n",
      "        Returns a sha224 hash object; optionally initialized with a string\n",
      "    \n",
      "    sha256 = openssl_sha256(...)\n",
      "        Returns a sha256 hash object; optionally initialized with a string\n",
      "    \n",
      "    sha384 = openssl_sha384(...)\n",
      "        Returns a sha384 hash object; optionally initialized with a string\n",
      "    \n",
      "    sha512 = openssl_sha512(...)\n",
      "        Returns a sha512 hash object; optionally initialized with a string\n",
      "\n",
      "DATA\n",
      "    __all__ = ('md5', 'sha1', 'sha224', 'sha256', 'sha384', 'sha512', 'bla...\n",
      "    algorithms_available = {'blake2b', 'blake2b512', 'blake2s', 'blake2s25...\n",
      "    algorithms_guaranteed = {'blake2b', 'blake2s', 'md5', 'sha1', 'sha224'...\n",
      "\n",
      "FILE\n",
      "    /home/sleven/anaconda3/lib/python3.7/hashlib.py\n",
      "\n",
      "\n"
     ]
    },
    {
     "data": {
      "text/plain": [
       "['__bool__',\n",
       " '__class__',\n",
       " '__delattr__',\n",
       " '__dir__',\n",
       " '__doc__',\n",
       " '__eq__',\n",
       " '__format__',\n",
       " '__ge__',\n",
       " '__getattribute__',\n",
       " '__gt__',\n",
       " '__hash__',\n",
       " '__init__',\n",
       " '__init_subclass__',\n",
       " '__le__',\n",
       " '__lt__',\n",
       " '__ne__',\n",
       " '__new__',\n",
       " '__reduce__',\n",
       " '__reduce_ex__',\n",
       " '__repr__',\n",
       " '__setattr__',\n",
       " '__sizeof__',\n",
       " '__str__',\n",
       " '__subclasshook__']"
      ]
     },
     "execution_count": 37,
     "metadata": {},
     "output_type": "execute_result"
    }
   ],
   "source": [
    "dir(help(hashlib))"
   ]
  },
  {
   "cell_type": "code",
   "execution_count": null,
   "metadata": {},
   "outputs": [],
   "source": []
  },
  {
   "cell_type": "code",
   "execution_count": 40,
   "metadata": {},
   "outputs": [],
   "source": [
    "#hashlib"
   ]
  },
  {
   "cell_type": "code",
   "execution_count": 51,
   "metadata": {},
   "outputs": [],
   "source": [
    "hashlib.algorithms_available\n",
    "m = hashlib.sha384()\n",
    "m.update(b\"Hallo Albstadt\")\n",
    "m.update(b\" the spammish repetition\")\n"
   ]
  },
  {
   "cell_type": "code",
   "execution_count": 49,
   "metadata": {},
   "outputs": [
    {
     "data": {
      "text/plain": [
       "{'blake2b',\n",
       " 'blake2b512',\n",
       " 'blake2s',\n",
       " 'blake2s256',\n",
       " 'md4',\n",
       " 'md5',\n",
       " 'md5-sha1',\n",
       " 'mdc2',\n",
       " 'ripemd160',\n",
       " 'sha1',\n",
       " 'sha224',\n",
       " 'sha256',\n",
       " 'sha3-224',\n",
       " 'sha3-256',\n",
       " 'sha3-384',\n",
       " 'sha3-512',\n",
       " 'sha384',\n",
       " 'sha3_224',\n",
       " 'sha3_256',\n",
       " 'sha3_384',\n",
       " 'sha3_512',\n",
       " 'sha512',\n",
       " 'sha512-224',\n",
       " 'sha512-256',\n",
       " 'shake128',\n",
       " 'shake256',\n",
       " 'shake_128',\n",
       " 'shake_256',\n",
       " 'sm3',\n",
       " 'whirlpool'}"
      ]
     },
     "execution_count": 49,
     "metadata": {},
     "output_type": "execute_result"
    }
   ],
   "source": [
    "hashlib.algorithms_available\n",
    "\n"
   ]
  },
  {
   "cell_type": "code",
   "execution_count": null,
   "metadata": {},
   "outputs": [],
   "source": []
  }
 ],
 "metadata": {
  "kernelspec": {
   "display_name": "Python 3",
   "language": "python",
   "name": "python3"
  },
  "language_info": {
   "codemirror_mode": {
    "name": "ipython",
    "version": 3
   },
   "file_extension": ".py",
   "mimetype": "text/x-python",
   "name": "python",
   "nbconvert_exporter": "python",
   "pygments_lexer": "ipython3",
   "version": "3.7.4"
  }
 },
 "nbformat": 4,
 "nbformat_minor": 2
}
